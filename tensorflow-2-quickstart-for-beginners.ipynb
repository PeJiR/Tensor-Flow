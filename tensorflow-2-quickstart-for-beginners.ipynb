{
 "cells": [
  {
   "cell_type": "code",
   "execution_count": 1,
   "id": "8625614f",
   "metadata": {
    "_cell_guid": "b1076dfc-b9ad-4769-8c92-a6c4dae69d19",
    "_uuid": "8f2839f25d086af736a60e9eeb907d3b93b6e0e5",
    "execution": {
     "iopub.execute_input": "2024-01-05T12:56:06.139265Z",
     "iopub.status.busy": "2024-01-05T12:56:06.138758Z",
     "iopub.status.idle": "2024-01-05T12:56:06.586985Z",
     "shell.execute_reply": "2024-01-05T12:56:06.585527Z"
    },
    "papermill": {
     "duration": 0.457492,
     "end_time": "2024-01-05T12:56:06.589919",
     "exception": false,
     "start_time": "2024-01-05T12:56:06.132427",
     "status": "completed"
    },
    "tags": []
   },
   "outputs": [],
   "source": [
    "# This Python 3 environment comes with many helpful analytics libraries installed\n",
    "# It is defined by the kaggle/python Docker image: https://github.com/kaggle/docker-python\n",
    "# For example, here's several helpful packages to load\n",
    "\n",
    "import numpy as np # linear algebra\n",
    "import pandas as pd # data processing, CSV file I/O (e.g. pd.read_csv)\n",
    "\n",
    "# Input data files are available in the read-only \"../input/\" directory\n",
    "# For example, running this (by clicking run or pressing Shift+Enter) will list all files under the input directory\n",
    "\n",
    "import os\n",
    "for dirname, _, filenames in os.walk('/kaggle/input'):\n",
    "    for filename in filenames:\n",
    "        print(os.path.join(dirname, filename))\n",
    "\n",
    "# You can write up to 20GB to the current directory (/kaggle/working/) that gets preserved as output when you create a version using \"Save & Run All\" \n",
    "# You can also write temporary files to /kaggle/temp/, but they won't be saved outside of the current session"
   ]
  },
  {
   "cell_type": "code",
   "execution_count": 2,
   "id": "7a2fae28",
   "metadata": {
    "execution": {
     "iopub.execute_input": "2024-01-05T12:56:06.599993Z",
     "iopub.status.busy": "2024-01-05T12:56:06.599355Z",
     "iopub.status.idle": "2024-01-05T12:56:20.997414Z",
     "shell.execute_reply": "2024-01-05T12:56:20.995937Z"
    },
    "papermill": {
     "duration": 14.405923,
     "end_time": "2024-01-05T12:56:21.000091",
     "exception": false,
     "start_time": "2024-01-05T12:56:06.594168",
     "status": "completed"
    },
    "tags": []
   },
   "outputs": [
    {
     "name": "stdout",
     "output_type": "stream",
     "text": [
      "TensorFlow version: 2.13.0\n"
     ]
    }
   ],
   "source": [
    "import tensorflow as tf\n",
    "print(\"TensorFlow version:\", tf.__version__)"
   ]
  },
  {
   "cell_type": "code",
   "execution_count": 3,
   "id": "3849d7ad",
   "metadata": {
    "execution": {
     "iopub.execute_input": "2024-01-05T12:56:21.010493Z",
     "iopub.status.busy": "2024-01-05T12:56:21.009586Z",
     "iopub.status.idle": "2024-01-05T12:56:22.833517Z",
     "shell.execute_reply": "2024-01-05T12:56:22.832207Z"
    },
    "papermill": {
     "duration": 1.832334,
     "end_time": "2024-01-05T12:56:22.836366",
     "exception": false,
     "start_time": "2024-01-05T12:56:21.004032",
     "status": "completed"
    },
    "tags": []
   },
   "outputs": [
    {
     "name": "stdout",
     "output_type": "stream",
     "text": [
      "Downloading data from https://storage.googleapis.com/tensorflow/tf-keras-datasets/mnist.npz\n",
      "11490434/11490434 [==============================] - 1s 0us/step\n"
     ]
    }
   ],
   "source": [
    "mnist = tf.keras.datasets.mnist\n",
    "\n",
    "(x_train, y_train), (x_test, y_test) = mnist.load_data()\n",
    "x_train, x_test = x_train / 255.0, x_test / 255.0"
   ]
  },
  {
   "cell_type": "code",
   "execution_count": 4,
   "id": "945cf7fe",
   "metadata": {
    "execution": {
     "iopub.execute_input": "2024-01-05T12:56:22.849604Z",
     "iopub.status.busy": "2024-01-05T12:56:22.848578Z",
     "iopub.status.idle": "2024-01-05T12:56:23.041342Z",
     "shell.execute_reply": "2024-01-05T12:56:23.039825Z"
    },
    "papermill": {
     "duration": 0.202756,
     "end_time": "2024-01-05T12:56:23.044452",
     "exception": false,
     "start_time": "2024-01-05T12:56:22.841696",
     "status": "completed"
    },
    "tags": []
   },
   "outputs": [],
   "source": [
    "model = tf.keras.models.Sequential([\n",
    "  tf.keras.layers.Flatten(input_shape=(28, 28)),\n",
    "  tf.keras.layers.Dense(128, activation='relu'),\n",
    "  tf.keras.layers.Dropout(0.2),\n",
    "  tf.keras.layers.Dense(10)\n",
    "])"
   ]
  },
  {
   "cell_type": "code",
   "execution_count": 5,
   "id": "f5b031d4",
   "metadata": {
    "execution": {
     "iopub.execute_input": "2024-01-05T12:56:23.056679Z",
     "iopub.status.busy": "2024-01-05T12:56:23.056222Z",
     "iopub.status.idle": "2024-01-05T12:56:23.094919Z",
     "shell.execute_reply": "2024-01-05T12:56:23.093732Z"
    },
    "papermill": {
     "duration": 0.047894,
     "end_time": "2024-01-05T12:56:23.097569",
     "exception": false,
     "start_time": "2024-01-05T12:56:23.049675",
     "status": "completed"
    },
    "tags": []
   },
   "outputs": [
    {
     "data": {
      "text/plain": [
       "array([[-0.58908916, -0.08848917,  0.3024152 , -0.29904336, -0.48260868,\n",
       "         0.27440912,  0.73068774, -0.01318705, -0.5007279 , -0.7305978 ]],\n",
       "      dtype=float32)"
      ]
     },
     "execution_count": 5,
     "metadata": {},
     "output_type": "execute_result"
    }
   ],
   "source": [
    "predictions = model(x_train[:1]).numpy()\n",
    "predictions"
   ]
  },
  {
   "cell_type": "code",
   "execution_count": 6,
   "id": "5c15152d",
   "metadata": {
    "execution": {
     "iopub.execute_input": "2024-01-05T12:56:23.110595Z",
     "iopub.status.busy": "2024-01-05T12:56:23.109266Z",
     "iopub.status.idle": "2024-01-05T12:56:23.123842Z",
     "shell.execute_reply": "2024-01-05T12:56:23.122579Z"
    },
    "papermill": {
     "duration": 0.023794,
     "end_time": "2024-01-05T12:56:23.126578",
     "exception": false,
     "start_time": "2024-01-05T12:56:23.102784",
     "status": "completed"
    },
    "tags": []
   },
   "outputs": [
    {
     "data": {
      "text/plain": [
       "array([[0.05750251, 0.09486252, 0.14023688, 0.07685146, 0.06396328,\n",
       "        0.1363639 , 0.21520813, 0.1022817 , 0.06281475, 0.04991492]],\n",
       "      dtype=float32)"
      ]
     },
     "execution_count": 6,
     "metadata": {},
     "output_type": "execute_result"
    }
   ],
   "source": [
    "tf.nn.softmax(predictions).numpy()\n"
   ]
  },
  {
   "cell_type": "code",
   "execution_count": 7,
   "id": "427782de",
   "metadata": {
    "execution": {
     "iopub.execute_input": "2024-01-05T12:56:23.140798Z",
     "iopub.status.busy": "2024-01-05T12:56:23.140360Z",
     "iopub.status.idle": "2024-01-05T12:56:23.145816Z",
     "shell.execute_reply": "2024-01-05T12:56:23.144696Z"
    },
    "papermill": {
     "duration": 0.015094,
     "end_time": "2024-01-05T12:56:23.148193",
     "exception": false,
     "start_time": "2024-01-05T12:56:23.133099",
     "status": "completed"
    },
    "tags": []
   },
   "outputs": [],
   "source": [
    "loss_fn = tf.keras.losses.SparseCategoricalCrossentropy(from_logits=True)"
   ]
  },
  {
   "cell_type": "code",
   "execution_count": 8,
   "id": "c51026c0",
   "metadata": {
    "execution": {
     "iopub.execute_input": "2024-01-05T12:56:23.161422Z",
     "iopub.status.busy": "2024-01-05T12:56:23.160256Z",
     "iopub.status.idle": "2024-01-05T12:56:23.191969Z",
     "shell.execute_reply": "2024-01-05T12:56:23.190417Z"
    },
    "papermill": {
     "duration": 0.041022,
     "end_time": "2024-01-05T12:56:23.194561",
     "exception": false,
     "start_time": "2024-01-05T12:56:23.153539",
     "status": "completed"
    },
    "tags": []
   },
   "outputs": [
    {
     "data": {
      "text/plain": [
       "1.9924283"
      ]
     },
     "execution_count": 8,
     "metadata": {},
     "output_type": "execute_result"
    }
   ],
   "source": [
    "loss_fn(y_train[:1], predictions).numpy()"
   ]
  },
  {
   "cell_type": "code",
   "execution_count": 9,
   "id": "7763494c",
   "metadata": {
    "execution": {
     "iopub.execute_input": "2024-01-05T12:56:23.207721Z",
     "iopub.status.busy": "2024-01-05T12:56:23.207234Z",
     "iopub.status.idle": "2024-01-05T12:56:23.228855Z",
     "shell.execute_reply": "2024-01-05T12:56:23.227468Z"
    },
    "papermill": {
     "duration": 0.03187,
     "end_time": "2024-01-05T12:56:23.231808",
     "exception": false,
     "start_time": "2024-01-05T12:56:23.199938",
     "status": "completed"
    },
    "tags": []
   },
   "outputs": [],
   "source": [
    "model.compile(optimizer='adam',\n",
    "              loss=loss_fn,\n",
    "              metrics=['accuracy'])"
   ]
  },
  {
   "cell_type": "code",
   "execution_count": null,
   "id": "aaf1fd49",
   "metadata": {
    "papermill": {
     "duration": 0.005022,
     "end_time": "2024-01-05T12:56:23.242674",
     "exception": false,
     "start_time": "2024-01-05T12:56:23.237652",
     "status": "completed"
    },
    "tags": []
   },
   "outputs": [],
   "source": []
  },
  {
   "cell_type": "code",
   "execution_count": null,
   "id": "9e182bcc",
   "metadata": {
    "papermill": {
     "duration": 0.004953,
     "end_time": "2024-01-05T12:56:23.253348",
     "exception": false,
     "start_time": "2024-01-05T12:56:23.248395",
     "status": "completed"
    },
    "tags": []
   },
   "outputs": [],
   "source": []
  },
  {
   "cell_type": "code",
   "execution_count": null,
   "id": "832a003c",
   "metadata": {
    "papermill": {
     "duration": 0.004904,
     "end_time": "2024-01-05T12:56:23.263831",
     "exception": false,
     "start_time": "2024-01-05T12:56:23.258927",
     "status": "completed"
    },
    "tags": []
   },
   "outputs": [],
   "source": []
  }
 ],
 "metadata": {
  "kaggle": {
   "accelerator": "none",
   "dataSources": [],
   "dockerImageVersionId": 30626,
   "isGpuEnabled": false,
   "isInternetEnabled": true,
   "language": "python",
   "sourceType": "notebook"
  },
  "kernelspec": {
   "display_name": "Python 3",
   "language": "python",
   "name": "python3"
  },
  "language_info": {
   "codemirror_mode": {
    "name": "ipython",
    "version": 3
   },
   "file_extension": ".py",
   "mimetype": "text/x-python",
   "name": "python",
   "nbconvert_exporter": "python",
   "pygments_lexer": "ipython3",
   "version": "3.10.12"
  },
  "papermill": {
   "default_parameters": {},
   "duration": 22.245343,
   "end_time": "2024-01-05T12:56:24.996947",
   "environment_variables": {},
   "exception": null,
   "input_path": "__notebook__.ipynb",
   "output_path": "__notebook__.ipynb",
   "parameters": {},
   "start_time": "2024-01-05T12:56:02.751604",
   "version": "2.4.0"
  }
 },
 "nbformat": 4,
 "nbformat_minor": 5
}
