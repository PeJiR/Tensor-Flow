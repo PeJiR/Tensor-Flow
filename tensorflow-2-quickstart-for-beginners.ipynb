{
 "cells": [
  {
   "cell_type": "code",
   "execution_count": 1,
   "id": "600817f8",
   "metadata": {
    "_cell_guid": "b1076dfc-b9ad-4769-8c92-a6c4dae69d19",
    "_uuid": "8f2839f25d086af736a60e9eeb907d3b93b6e0e5",
    "execution": {
     "iopub.execute_input": "2024-01-05T13:05:08.150122Z",
     "iopub.status.busy": "2024-01-05T13:05:08.149638Z",
     "iopub.status.idle": "2024-01-05T13:05:08.595589Z",
     "shell.execute_reply": "2024-01-05T13:05:08.594559Z"
    },
    "papermill": {
     "duration": 0.456802,
     "end_time": "2024-01-05T13:05:08.598481",
     "exception": false,
     "start_time": "2024-01-05T13:05:08.141679",
     "status": "completed"
    },
    "tags": []
   },
   "outputs": [],
   "source": [
    "# This Python 3 environment comes with many helpful analytics libraries installed\n",
    "# It is defined by the kaggle/python Docker image: https://github.com/kaggle/docker-python\n",
    "# For example, here's several helpful packages to load\n",
    "\n",
    "import numpy as np # linear algebra\n",
    "import pandas as pd # data processing, CSV file I/O (e.g. pd.read_csv)\n",
    "\n",
    "# Input data files are available in the read-only \"../input/\" directory\n",
    "# For example, running this (by clicking run or pressing Shift+Enter) will list all files under the input directory\n",
    "\n",
    "import os\n",
    "for dirname, _, filenames in os.walk('/kaggle/input'):\n",
    "    for filename in filenames:\n",
    "        print(os.path.join(dirname, filename))\n",
    "\n",
    "# You can write up to 20GB to the current directory (/kaggle/working/) that gets preserved as output when you create a version using \"Save & Run All\" \n",
    "# You can also write temporary files to /kaggle/temp/, but they won't be saved outside of the current session"
   ]
  },
  {
   "cell_type": "markdown",
   "id": "3631b7cd",
   "metadata": {
    "papermill": {
     "duration": 0.004263,
     "end_time": "2024-01-05T13:05:08.607747",
     "exception": false,
     "start_time": "2024-01-05T13:05:08.603484",
     "status": "completed"
    },
    "tags": []
   },
   "source": [
    "# Set up TensorFlow"
   ]
  },
  {
   "cell_type": "code",
   "execution_count": 2,
   "id": "5ea3a3ce",
   "metadata": {
    "execution": {
     "iopub.execute_input": "2024-01-05T13:05:08.618832Z",
     "iopub.status.busy": "2024-01-05T13:05:08.618233Z",
     "iopub.status.idle": "2024-01-05T13:05:22.160578Z",
     "shell.execute_reply": "2024-01-05T13:05:22.159638Z"
    },
    "papermill": {
     "duration": 13.550591,
     "end_time": "2024-01-05T13:05:22.162674",
     "exception": false,
     "start_time": "2024-01-05T13:05:08.612083",
     "status": "completed"
    },
    "tags": []
   },
   "outputs": [
    {
     "name": "stdout",
     "output_type": "stream",
     "text": [
      "TensorFlow version: 2.13.0\n"
     ]
    }
   ],
   "source": [
    "import tensorflow as tf\n",
    "print(\"TensorFlow version:\", tf.__version__)"
   ]
  },
  {
   "cell_type": "markdown",
   "id": "c49b4a8b",
   "metadata": {
    "papermill": {
     "duration": 0.004335,
     "end_time": "2024-01-05T13:05:22.171769",
     "exception": false,
     "start_time": "2024-01-05T13:05:22.167434",
     "status": "completed"
    },
    "tags": []
   },
   "source": [
    "# Load a dataset"
   ]
  },
  {
   "cell_type": "code",
   "execution_count": 3,
   "id": "562b325f",
   "metadata": {
    "execution": {
     "iopub.execute_input": "2024-01-05T13:05:22.183877Z",
     "iopub.status.busy": "2024-01-05T13:05:22.182363Z",
     "iopub.status.idle": "2024-01-05T13:05:23.109715Z",
     "shell.execute_reply": "2024-01-05T13:05:23.108627Z"
    },
    "papermill": {
     "duration": 0.936062,
     "end_time": "2024-01-05T13:05:23.112358",
     "exception": false,
     "start_time": "2024-01-05T13:05:22.176296",
     "status": "completed"
    },
    "tags": []
   },
   "outputs": [
    {
     "name": "stdout",
     "output_type": "stream",
     "text": [
      "Downloading data from https://storage.googleapis.com/tensorflow/tf-keras-datasets/mnist.npz\n",
      "11490434/11490434 [==============================] - 0s 0us/step\n"
     ]
    }
   ],
   "source": [
    "mnist = tf.keras.datasets.mnist\n",
    "\n",
    "(x_train, y_train), (x_test, y_test) = mnist.load_data()\n",
    "x_train, x_test = x_train / 255.0, x_test / 255.0"
   ]
  },
  {
   "cell_type": "markdown",
   "id": "8b15d825",
   "metadata": {
    "papermill": {
     "duration": 0.0049,
     "end_time": "2024-01-05T13:05:23.122542",
     "exception": false,
     "start_time": "2024-01-05T13:05:23.117642",
     "status": "completed"
    },
    "tags": []
   },
   "source": [
    "# Build a machine learning model"
   ]
  },
  {
   "cell_type": "code",
   "execution_count": 4,
   "id": "91b31a60",
   "metadata": {
    "execution": {
     "iopub.execute_input": "2024-01-05T13:05:23.135315Z",
     "iopub.status.busy": "2024-01-05T13:05:23.134492Z",
     "iopub.status.idle": "2024-01-05T13:05:23.343533Z",
     "shell.execute_reply": "2024-01-05T13:05:23.342258Z"
    },
    "papermill": {
     "duration": 0.218872,
     "end_time": "2024-01-05T13:05:23.346549",
     "exception": false,
     "start_time": "2024-01-05T13:05:23.127677",
     "status": "completed"
    },
    "tags": []
   },
   "outputs": [],
   "source": [
    "model = tf.keras.models.Sequential([\n",
    "  tf.keras.layers.Flatten(input_shape=(28, 28)),\n",
    "  tf.keras.layers.Dense(128, activation='relu'),\n",
    "  tf.keras.layers.Dropout(0.2),\n",
    "  tf.keras.layers.Dense(10)\n",
    "])"
   ]
  },
  {
   "cell_type": "code",
   "execution_count": 5,
   "id": "0ec05312",
   "metadata": {
    "execution": {
     "iopub.execute_input": "2024-01-05T13:05:23.359725Z",
     "iopub.status.busy": "2024-01-05T13:05:23.359203Z",
     "iopub.status.idle": "2024-01-05T13:05:23.400455Z",
     "shell.execute_reply": "2024-01-05T13:05:23.399520Z"
    },
    "papermill": {
     "duration": 0.050499,
     "end_time": "2024-01-05T13:05:23.402609",
     "exception": false,
     "start_time": "2024-01-05T13:05:23.352110",
     "status": "completed"
    },
    "tags": []
   },
   "outputs": [
    {
     "data": {
      "text/plain": [
       "array([[-0.30459166, -0.6199203 ,  0.54208046, -0.57445407,  0.3092195 ,\n",
       "         0.24618846,  0.3645942 , -0.48405588, -0.5603012 , -0.9089959 ]],\n",
       "      dtype=float32)"
      ]
     },
     "execution_count": 5,
     "metadata": {},
     "output_type": "execute_result"
    }
   ],
   "source": [
    "predictions = model(x_train[:1]).numpy()\n",
    "predictions"
   ]
  },
  {
   "cell_type": "code",
   "execution_count": 6,
   "id": "1ed41163",
   "metadata": {
    "execution": {
     "iopub.execute_input": "2024-01-05T13:05:23.415978Z",
     "iopub.status.busy": "2024-01-05T13:05:23.415273Z",
     "iopub.status.idle": "2024-01-05T13:05:23.427519Z",
     "shell.execute_reply": "2024-01-05T13:05:23.426716Z"
    },
    "papermill": {
     "duration": 0.021284,
     "end_time": "2024-01-05T13:05:23.429482",
     "exception": false,
     "start_time": "2024-01-05T13:05:23.408198",
     "status": "completed"
    },
    "tags": []
   },
   "outputs": [
    {
     "data": {
      "text/plain": [
       "array([[0.07989707, 0.05828883, 0.18630987, 0.06100018, 0.14760655,\n",
       "        0.1385899 , 0.15601076, 0.0667714 , 0.06186964, 0.04365574]],\n",
       "      dtype=float32)"
      ]
     },
     "execution_count": 6,
     "metadata": {},
     "output_type": "execute_result"
    }
   ],
   "source": [
    "tf.nn.softmax(predictions).numpy()\n"
   ]
  },
  {
   "cell_type": "code",
   "execution_count": 7,
   "id": "216204b4",
   "metadata": {
    "execution": {
     "iopub.execute_input": "2024-01-05T13:05:23.442671Z",
     "iopub.status.busy": "2024-01-05T13:05:23.441554Z",
     "iopub.status.idle": "2024-01-05T13:05:23.446460Z",
     "shell.execute_reply": "2024-01-05T13:05:23.445673Z"
    },
    "papermill": {
     "duration": 0.013529,
     "end_time": "2024-01-05T13:05:23.448432",
     "exception": false,
     "start_time": "2024-01-05T13:05:23.434903",
     "status": "completed"
    },
    "tags": []
   },
   "outputs": [],
   "source": [
    "loss_fn = tf.keras.losses.SparseCategoricalCrossentropy(from_logits=True)"
   ]
  },
  {
   "cell_type": "code",
   "execution_count": 8,
   "id": "f2d61dd4",
   "metadata": {
    "execution": {
     "iopub.execute_input": "2024-01-05T13:05:23.461601Z",
     "iopub.status.busy": "2024-01-05T13:05:23.460837Z",
     "iopub.status.idle": "2024-01-05T13:05:23.490361Z",
     "shell.execute_reply": "2024-01-05T13:05:23.489131Z"
    },
    "papermill": {
     "duration": 0.038816,
     "end_time": "2024-01-05T13:05:23.492790",
     "exception": false,
     "start_time": "2024-01-05T13:05:23.453974",
     "status": "completed"
    },
    "tags": []
   },
   "outputs": [
    {
     "data": {
      "text/plain": [
       "1.976236"
      ]
     },
     "execution_count": 8,
     "metadata": {},
     "output_type": "execute_result"
    }
   ],
   "source": [
    "loss_fn(y_train[:1], predictions).numpy()"
   ]
  },
  {
   "cell_type": "code",
   "execution_count": 9,
   "id": "5d9c3042",
   "metadata": {
    "execution": {
     "iopub.execute_input": "2024-01-05T13:05:23.506087Z",
     "iopub.status.busy": "2024-01-05T13:05:23.505327Z",
     "iopub.status.idle": "2024-01-05T13:05:23.535060Z",
     "shell.execute_reply": "2024-01-05T13:05:23.533559Z"
    },
    "papermill": {
     "duration": 0.039936,
     "end_time": "2024-01-05T13:05:23.538119",
     "exception": false,
     "start_time": "2024-01-05T13:05:23.498183",
     "status": "completed"
    },
    "tags": []
   },
   "outputs": [],
   "source": [
    "model.compile(optimizer='adam',\n",
    "              loss=loss_fn,\n",
    "              metrics=['accuracy'])"
   ]
  },
  {
   "cell_type": "markdown",
   "id": "64162b69",
   "metadata": {
    "papermill": {
     "duration": 0.005322,
     "end_time": "2024-01-05T13:05:23.549606",
     "exception": false,
     "start_time": "2024-01-05T13:05:23.544284",
     "status": "completed"
    },
    "tags": []
   },
   "source": [
    "# Train and evaluate your model"
   ]
  },
  {
   "cell_type": "code",
   "execution_count": 10,
   "id": "256805d1",
   "metadata": {
    "execution": {
     "iopub.execute_input": "2024-01-05T13:05:23.562784Z",
     "iopub.status.busy": "2024-01-05T13:05:23.562325Z",
     "iopub.status.idle": "2024-01-05T13:06:05.984331Z",
     "shell.execute_reply": "2024-01-05T13:06:05.983189Z"
    },
    "papermill": {
     "duration": 42.470592,
     "end_time": "2024-01-05T13:06:06.025630",
     "exception": false,
     "start_time": "2024-01-05T13:05:23.555038",
     "status": "completed"
    },
    "tags": []
   },
   "outputs": [
    {
     "name": "stdout",
     "output_type": "stream",
     "text": [
      "Epoch 1/5\n",
      "1875/1875 [==============================] - 6s 3ms/step - loss: 0.2965 - accuracy: 0.9138\n",
      "Epoch 2/5\n",
      "1875/1875 [==============================] - 5s 3ms/step - loss: 0.1443 - accuracy: 0.9566\n",
      "Epoch 3/5\n",
      "1875/1875 [==============================] - 5s 3ms/step - loss: 0.1080 - accuracy: 0.9673\n",
      "Epoch 4/5\n",
      "1875/1875 [==============================] - 5s 3ms/step - loss: 0.0899 - accuracy: 0.9721\n",
      "Epoch 5/5\n",
      "1875/1875 [==============================] - 5s 3ms/step - loss: 0.0747 - accuracy: 0.9768\n"
     ]
    },
    {
     "data": {
      "text/plain": [
       "<keras.src.callbacks.History at 0x7eecabe86050>"
      ]
     },
     "execution_count": 10,
     "metadata": {},
     "output_type": "execute_result"
    }
   ],
   "source": [
    "model.fit(x_train, y_train, epochs=5)"
   ]
  },
  {
   "cell_type": "markdown",
   "id": "97f0c736",
   "metadata": {
    "papermill": {
     "duration": 0.040675,
     "end_time": "2024-01-05T13:06:06.106393",
     "exception": false,
     "start_time": "2024-01-05T13:06:06.065718",
     "status": "completed"
    },
    "tags": []
   },
   "source": []
  },
  {
   "cell_type": "code",
   "execution_count": 11,
   "id": "ce9d5f9c",
   "metadata": {
    "execution": {
     "iopub.execute_input": "2024-01-05T13:06:06.186429Z",
     "iopub.status.busy": "2024-01-05T13:06:06.185542Z",
     "iopub.status.idle": "2024-01-05T13:06:07.165430Z",
     "shell.execute_reply": "2024-01-05T13:06:07.164526Z"
    },
    "papermill": {
     "duration": 1.023133,
     "end_time": "2024-01-05T13:06:07.167891",
     "exception": false,
     "start_time": "2024-01-05T13:06:06.144758",
     "status": "completed"
    },
    "tags": []
   },
   "outputs": [
    {
     "name": "stdout",
     "output_type": "stream",
     "text": [
      "313/313 - 1s - loss: 0.0794 - accuracy: 0.9760 - 608ms/epoch - 2ms/step\n"
     ]
    },
    {
     "data": {
      "text/plain": [
       "[0.07936632633209229, 0.9760000109672546]"
      ]
     },
     "execution_count": 11,
     "metadata": {},
     "output_type": "execute_result"
    }
   ],
   "source": [
    "model.evaluate(x_test,  y_test, verbose=2)"
   ]
  },
  {
   "cell_type": "code",
   "execution_count": 12,
   "id": "b490016f",
   "metadata": {
    "execution": {
     "iopub.execute_input": "2024-01-05T13:06:07.250999Z",
     "iopub.status.busy": "2024-01-05T13:06:07.249635Z",
     "iopub.status.idle": "2024-01-05T13:06:07.283061Z",
     "shell.execute_reply": "2024-01-05T13:06:07.281825Z"
    },
    "papermill": {
     "duration": 0.077387,
     "end_time": "2024-01-05T13:06:07.285869",
     "exception": false,
     "start_time": "2024-01-05T13:06:07.208482",
     "status": "completed"
    },
    "tags": []
   },
   "outputs": [],
   "source": [
    "probability_model = tf.keras.Sequential([\n",
    "  model,\n",
    "  tf.keras.layers.Softmax()\n",
    "])"
   ]
  },
  {
   "cell_type": "code",
   "execution_count": 13,
   "id": "76b40aef",
   "metadata": {
    "execution": {
     "iopub.execute_input": "2024-01-05T13:06:07.460070Z",
     "iopub.status.busy": "2024-01-05T13:06:07.459556Z",
     "iopub.status.idle": "2024-01-05T13:06:07.474822Z",
     "shell.execute_reply": "2024-01-05T13:06:07.473622Z"
    },
    "papermill": {
     "duration": 0.058351,
     "end_time": "2024-01-05T13:06:07.477096",
     "exception": false,
     "start_time": "2024-01-05T13:06:07.418745",
     "status": "completed"
    },
    "tags": []
   },
   "outputs": [
    {
     "data": {
      "text/plain": [
       "<tf.Tensor: shape=(5, 10), dtype=float32, numpy=\n",
       "array([[1.4840071e-08, 4.7069690e-09, 2.4163787e-06, 3.2405464e-05,\n",
       "        1.1832392e-12, 1.8444275e-07, 8.4459777e-13, 9.9996126e-01,\n",
       "        1.8777318e-07, 3.4551354e-06],\n",
       "       [2.4113326e-08, 8.5306256e-06, 9.9994993e-01, 3.9550989e-05,\n",
       "        2.1590804e-17, 5.5076521e-07, 2.7487210e-09, 6.0305154e-15,\n",
       "        1.4106516e-06, 6.2565784e-14],\n",
       "       [1.3213220e-07, 9.9840313e-01, 7.4188792e-05, 3.2170603e-05,\n",
       "        1.0397107e-04, 1.8387844e-05, 1.0666016e-05, 6.5763178e-04,\n",
       "        6.9947413e-04, 2.4881646e-07],\n",
       "       [9.9997652e-01, 2.5262675e-13, 2.2334760e-05, 2.9164772e-08,\n",
       "        4.7251641e-10, 5.0328619e-08, 5.3735494e-07, 2.9578375e-08,\n",
       "        4.9801437e-11, 5.2148732e-07],\n",
       "       [2.6323787e-07, 8.2856344e-10, 2.2356489e-06, 3.5540939e-08,\n",
       "        9.9902737e-01, 5.9833832e-07, 5.4563247e-07, 6.5416418e-05,\n",
       "        1.1706676e-06, 9.0239575e-04]], dtype=float32)>"
      ]
     },
     "execution_count": 13,
     "metadata": {},
     "output_type": "execute_result"
    }
   ],
   "source": [
    "probability_model(x_test[:5])\n"
   ]
  },
  {
   "cell_type": "code",
   "execution_count": null,
   "id": "9a3f2eab",
   "metadata": {
    "papermill": {
     "duration": 0.040052,
     "end_time": "2024-01-05T13:06:07.557301",
     "exception": false,
     "start_time": "2024-01-05T13:06:07.517249",
     "status": "completed"
    },
    "tags": []
   },
   "outputs": [],
   "source": []
  }
 ],
 "metadata": {
  "kaggle": {
   "accelerator": "none",
   "dataSources": [],
   "dockerImageVersionId": 30626,
   "isGpuEnabled": false,
   "isInternetEnabled": true,
   "language": "python",
   "sourceType": "notebook"
  },
  "kernelspec": {
   "display_name": "Python 3",
   "language": "python",
   "name": "python3"
  },
  "language_info": {
   "codemirror_mode": {
    "name": "ipython",
    "version": 3
   },
   "file_extension": ".py",
   "mimetype": "text/x-python",
   "name": "python",
   "nbconvert_exporter": "python",
   "pygments_lexer": "ipython3",
   "version": "3.10.12"
  },
  "papermill": {
   "default_parameters": {},
   "duration": 65.488091,
   "end_time": "2024-01-05T13:06:10.401108",
   "environment_variables": {},
   "exception": null,
   "input_path": "__notebook__.ipynb",
   "output_path": "__notebook__.ipynb",
   "parameters": {},
   "start_time": "2024-01-05T13:05:04.913017",
   "version": "2.4.0"
  }
 },
 "nbformat": 4,
 "nbformat_minor": 5
}
